{
 "cells": [
  {
   "cell_type": "code",
   "execution_count": 1,
   "metadata": {},
   "outputs": [
    {
     "name": "stdout",
     "output_type": "stream",
     "text": [
      "Array1:\n",
      "['Python' 'PHP']\n",
      "Array2:\n",
      "[' Java' ' C++']\n",
      "new array:\n",
      "['Python Java' 'PHP C++']\n"
     ]
    }
   ],
   "source": [
    "#1-Write a NumPy program to concatenate element-wise two arrays of string. \n",
    "import numpy as np\n",
    "x1 = np.array(['Python', 'PHP'], dtype=np.str)\n",
    "x2 = np.array([' Java', ' C++'], dtype=np.str)\n",
    "print(\"Array1:\")\n",
    "print(x1)\n",
    "print(\"Array2:\")\n",
    "print(x2)\n",
    "new_array = np.char.add(x1, x2)\n",
    "print(\"new array:\")\n",
    "print(new_array)"
   ]
  },
  {
   "cell_type": "code",
   "execution_count": 2,
   "metadata": {},
   "outputs": [
    {
     "name": "stdout",
     "output_type": "stream",
     "text": [
      "Original Array :\n",
      "['Akash' 'Rohit' 'Ayush' 'Dhruv' 'Radhika']\n",
      "\n",
      "New array :\n",
      "['AkashAkashAkash' 'RohitRohitRohit' 'AyushAyushAyush' 'DhruvDhruvDhruv'\n",
      " 'RadhikaRadhikaRadhika']\n"
     ]
    }
   ],
   "source": [
    "#2-Write a NumPy program to repeat all the elements three times of a given array of string\n",
    "import numpy as np\n",
    "arr = np.array(['Akash', 'Rohit', 'Ayush','Dhruv', 'Radhika'], dtype = np.str)\n",
    "print(\"Original Array :\")\n",
    "print(arr)\n",
    "new_array = np.char.multiply(arr, 3)\n",
    "print(\"\\nNew array :\")\n",
    "print(new_array)\n"
   ]
  },
  {
   "cell_type": "code",
   "execution_count": 3,
   "metadata": {},
   "outputs": [
    {
     "name": "stdout",
     "output_type": "stream",
     "text": [
      "Original Array:\n",
      "['python' 'PHP' 'java' 'C++']\n",
      "\n",
      "Capitalized:  ['Python' 'Php' 'Java' 'C++']\n",
      "Lowered:  ['python' 'php' 'java' 'c++']\n",
      "Uppered:  ['PYTHON' 'PHP' 'JAVA' 'C++']\n",
      "Swapcased:  ['PYTHON' 'php' 'JAVA' 'c++']\n",
      "Titlecased:  ['Python' 'Php' 'Java' 'C++']\n"
     ]
    }
   ],
   "source": [
    "#3-Write a NumPy program to capitalize the first letter, lowercase, uppercase, swapcase, title-case of all the elements of a giveGo to the editn array.\n",
    "import numpy as np\n",
    "x = np.array(['python', 'PHP', 'java', 'C++'], dtype=np.str)\n",
    "print(\"Original Array:\")\n",
    "print(x)\n",
    "capitalized_case = np.char.capitalize(x)\n",
    "lowered_case = np.char.lower(x)\n",
    "uppered_case = np.char.upper(x)\n",
    "swapcased_case = np.char.swapcase(x)\n",
    "titlecased_case = np.char.title(x)\n",
    "print(\"\\nCapitalized: \", capitalized_case)\n",
    "print(\"Lowered: \", lowered_case)\n",
    "print(\"Uppered: \", uppered_case)\n",
    "print(\"Swapcased: \", swapcased_case)\n",
    "print(\"Titlecased: \", titlecased_case)"
   ]
  },
  {
   "cell_type": "code",
   "execution_count": 4,
   "metadata": {},
   "outputs": [
    {
     "name": "stdout",
     "output_type": "stream",
     "text": [
      "Original Array:\n",
      "['python exercises' 'PHP' 'java' 'C++']\n",
      "\n",
      "Centered = ['python exercise' '______PHP______' '______java_____' '______C++______']\n",
      "Left = ['python exercise' 'PHP____________' 'java___________' 'C++____________']\n",
      "Right = ['python exercise' '____________PHP' '___________java' '____________C++']\n"
     ]
    }
   ],
   "source": [
    "#4-Write a NumPy program to make the length of each element 15 of a given array and the string centered / left-justified / right-justified with paddings of _\n",
    "import numpy as np\n",
    "x = np.array(['python exercises', 'PHP', 'java', 'C++'], dtype=np.str)\n",
    "print(\"Original Array:\")\n",
    "print(x)\n",
    "centered = np.char.center(x, 15, fillchar='_')\n",
    "left = np.char.ljust(x, 15, fillchar='_')\n",
    "right = np.char.rjust(x, 15, fillchar='_')\n",
    "print(\"\\nCentered =\", centered)\n",
    "print(\"Left =\", left)\n",
    "print(\"Right =\", right)"
   ]
  },
  {
   "cell_type": "code",
   "execution_count": 5,
   "metadata": {},
   "outputs": [
    {
     "name": "stdout",
     "output_type": "stream",
     "text": [
      "Original Array:\n",
      "['python exercises' 'PHP' 'java' 'C++']\n",
      "\n",
      "Centered = ['python exercise' '______PHP______' '______java_____' '______C++______']\n",
      "Left = ['python exercise' 'PHP____________' 'java___________' 'C++____________']\n",
      "Right = ['python exercise' '____________PHP' '___________java' '____________C++']\n"
     ]
    }
   ],
   "source": [
    "#5-Write a NumPy program to make the length of each element 15 of a given array and the string centered / left-justified / right-justified with paddings of _.\n",
    "import numpy as np\n",
    "x = np.array(['python exercises', 'PHP', 'java', 'C++'], dtype=np.str)\n",
    "print(\"Original Array:\")\n",
    "print(x)\n",
    "centered = np.char.center(x, 15, fillchar='_')\n",
    "left = np.char.ljust(x, 15, fillchar='_')\n",
    "right = np.char.rjust(x, 15, fillchar='_')\n",
    "print(\"\\nCentered =\", centered)\n",
    "print(\"Left =\", left)\n",
    "print(\"Right =\", right)"
   ]
  },
  {
   "cell_type": "code",
   "execution_count": 6,
   "metadata": {},
   "outputs": [
    {
     "name": "stdout",
     "output_type": "stream",
     "text": [
      " geeks for geeks \n",
      "geeks for geeks\n",
      "for\n"
     ]
    }
   ],
   "source": [
    "#6- Write a NumPy program to remove the leading and trailing whitespaces of all the elements of a given array. \n",
    "\n",
    "# Python3 program to demonstrate the use of\n",
    "# strip() method\n",
    "\n",
    "string = \"\"\" geeks for geeks \"\"\"\n",
    "\n",
    "# prints the string without stripping\n",
    "print(string)\n",
    "\n",
    "# prints the string by removing leading and trailing whitespaces\n",
    "print(string.strip())\n",
    "\n",
    "# prints the string by removing geeks\n",
    "print(string.strip(' geeks'))\n"
   ]
  },
  {
   "cell_type": "code",
   "execution_count": 9,
   "metadata": {},
   "outputs": [
    {
     "name": "stdout",
     "output_type": "stream",
     "text": [
      "\n",
      "Original Array:\n",
      "['2' '11' '234' '1234' '12345']\n",
      "\n",
      "Numeric string of 5 digits with zeros:\n",
      "['00002' '00011' '00234' '01234' '12345']\n"
     ]
    }
   ],
   "source": [
    "#7-Write a NumPy program to make all the elements of a given string to a numeric string of 5 digits with zeros on its left.\n",
    "import numpy as np\n",
    "x = np.array(['2', '11', '234', '1234', '12345'], dtype=np.str)\n",
    "print(\"\\nOriginal Array:\")\n",
    "print(x)\n",
    "r = np.char.zfill(x, 5)\n",
    "print(\"\\nNumeric string of 5 digits with zeros:\")\n",
    "print(r) "
   ]
  },
  {
   "cell_type": "code",
   "execution_count": 10,
   "metadata": {},
   "outputs": [
    {
     "name": "stdout",
     "output_type": "stream",
     "text": [
      "\n",
      "Original Array:\n",
      "['Python' 'PHP' 'JS' 'EXAMPLES' 'HTML']\n",
      "count the lowest index of ‘P’:\n",
      "[ 0  0 -1  4 -1]\n"
     ]
    }
   ],
   "source": [
    "#8-Write a NumPy program to count the number of \"P\" in a given array, element-wise.\n",
    "import numpy as np\n",
    "x1 = np.array(['Python', 'PHP', 'JS', 'EXAMPLES', 'HTML'], dtype=np.str)\n",
    "print(\"\\nOriginal Array:\")\n",
    "print(x1)\n",
    "print(\"count the lowest index of ‘P’:\")\n",
    "r = np.char.find(x1, \"P\")\n",
    "print(r)"
   ]
  },
  {
   "cell_type": "code",
   "execution_count": 11,
   "metadata": {},
   "outputs": [
    {
     "name": "stdout",
     "output_type": "stream",
     "text": [
      "Original text:\n",
      "01\tV\tDebby Pramod\n",
      "02\tV\tArtemiy Ellie\n",
      "03\tV\tBaptist Kamal\n",
      "04\tV\tLavanya Davide\n",
      "05\tV\tFulton Antwan\n",
      "06\tV\tEuanthe Sandeep\n",
      "07\tV\tEndzela Sanda\n",
      "08\tV\tVictoire Waman\n",
      "09\tV\tBriar Nur\n",
      "10\tV\tRose Lykos\n",
      "\n",
      "Array from the said text:\n",
      "[['01' 'V' 'Debby Pramod']\n",
      " ['02' 'V' 'Artemiy Ellie']\n",
      " ['03' 'V' 'Baptist Kamal']\n",
      " ['04' 'V' 'Lavanya Davide']\n",
      " ['05' 'V' 'Fulton Antwan']\n",
      " ['06' 'V' 'Euanthe Sandeep']\n",
      " ['07' 'V' 'Endzela Sanda']\n",
      " ['08' 'V' 'Victoire Waman']\n",
      " ['09' 'V' 'Briar Nur']\n",
      " ['10' 'V' 'Rose Lykos']]\n"
     ]
    }
   ],
   "source": [
    "#9-Write a NumPy program to split a given text into lines and split the single line into array values. \n",
    "import numpy as np \n",
    "student = \"\"\"01\tV\tDebby Pramod\n",
    "02\tV\tArtemiy Ellie\n",
    "03\tV\tBaptist Kamal\n",
    "04\tV\tLavanya Davide\n",
    "05\tV\tFulton Antwan\n",
    "06\tV\tEuanthe Sandeep\n",
    "07\tV\tEndzela Sanda\n",
    "08\tV\tVictoire Waman\n",
    "09\tV\tBriar Nur\n",
    "10\tV\tRose Lykos\"\"\"\n",
    "\n",
    "print(\"Original text:\") \n",
    "print(student)\n",
    "text_lines = student.splitlines()\n",
    "text_lines = [r.split('\\t') for r in text_lines]\n",
    "result = np.array(text_lines, dtype=np.str)\n",
    "print(\"\\nArray from the said text:\")\n",
    "print(result)\n"
   ]
  },
  {
   "cell_type": "code",
   "execution_count": 12,
   "metadata": {},
   "outputs": [
    {
     "name": "stdout",
     "output_type": "stream",
     "text": [
      "Original array of string values:\n",
      "[['Python-NumPy-Exercises']\n",
      " ['-Python-']]\n",
      "\n",
      "Replace '-' with '=' character in the said array of string values:\n",
      "[['Python==NumPy==Exercises']\n",
      " ['==Python==']]\n",
      "\n",
      "Replace '-' with ' ' character in the said array of string values:\n",
      "[['Python NumPy Exercises']\n",
      " ['Python']]\n"
     ]
    }
   ],
   "source": [
    "#10- Write a NumPy program to replace a specific character with another in a given array of string values.\n",
    "import numpy as np \n",
    "\n",
    "str1 = np.array([['Python-NumPy-Exercises'],\n",
    "              ['-Python-']])\n",
    "print(\"Original array of string values:\") \n",
    "print(str1)\n",
    "print(\"\\nReplace '-' with '=' character in the said array of string values:\")\n",
    "print(np.char.strip(np.char.replace(str1, '-', '==')))\n",
    "print(\"\\nReplace '-' with ' ' character in the said array of string values:\")\n",
    "print(np.char.strip(np.char.replace(str1, '-', ' ')))"
   ]
  }
 ],
 "metadata": {
  "kernelspec": {
   "display_name": "Python 3",
   "language": "python",
   "name": "python3"
  },
  "language_info": {
   "codemirror_mode": {
    "name": "ipython",
    "version": 3
   },
   "file_extension": ".py",
   "mimetype": "text/x-python",
   "name": "python",
   "nbconvert_exporter": "python",
   "pygments_lexer": "ipython3",
   "version": "3.8.5"
  }
 },
 "nbformat": 4,
 "nbformat_minor": 4
}
